{
 "cells": [
  {
   "cell_type": "code",
   "execution_count": 237,
   "id": "c62643c6-eaa3-405f-b3e8-0aac4a4b2596",
   "metadata": {},
   "outputs": [],
   "source": [
    "import numpy as np\n",
    "import pandas as pd\n",
    "import re\n",
    "import string\n",
    "import pickle"
   ]
  },
  {
   "cell_type": "code",
   "execution_count": 239,
   "id": "87915e5e-b805-480d-9cd2-6f41b7b8b475",
   "metadata": {},
   "outputs": [],
   "source": [
    "#Remove Punctuations\n",
    "def remove_punctuations(text):\n",
    "    for punctuation in string.punctuation:\n",
    "        text = text.replace(punctuation, \"\")\n",
    "    return text"
   ]
  },
  {
   "cell_type": "code",
   "execution_count": 240,
   "id": "77770b70-c0a3-4fbb-875d-0f6e1be3ce3e",
   "metadata": {},
   "outputs": [],
   "source": [
    "# Load the model from the file\n",
    "# File path is '../static/model/model', opened in binary read mode ('rb')\n",
    "with open('../static/model/model.pickle', 'rb') as f:\n",
    "    # Unpickle (deserialize) the model and store it in the variable 'model'\n",
    "    model = pickle.load(f)"
   ]
  },
  {
   "cell_type": "code",
   "execution_count": 241,
   "id": "a99ac755-ea07-4655-ab37-d151526a4508",
   "metadata": {},
   "outputs": [],
   "source": [
    "# Remove Stopwords open\n",
    "with open('../static/model/corpora/stopwords/english', 'r') as file:\n",
    "    # Read the contents of the file and split it into a list of lines (each line contains a stopword)\n",
    "    sw = file.read().splitlines()\n",
    "    "
   ]
  },
  {
   "cell_type": "code",
   "execution_count": 242,
   "id": "06fbaee3-0a4d-424e-856c-fc6dda56d4af",
   "metadata": {},
   "outputs": [],
   "source": [
    "# Load the vocabulary file into a DataFrame\n",
    "# File path is '../static/model/vocabulary.txt', and it has no header\n",
    "vocab = pd.read_csv('../static/model/vocabulary.txt', header=None)\n",
    "\n",
    "# Extract the first column of the DataFrame and convert it into a list\n",
    "tokens = vocab[0].tolist()\n"
   ]
  },
  {
   "cell_type": "code",
   "execution_count": 243,
   "id": "00416baf-ac2c-4d75-a309-68fbca474182",
   "metadata": {},
   "outputs": [],
   "source": [
    "# Import the PorterStemmer class from the nltk.stem module\n",
    "from nltk.stem import PorterStemmer\n",
    "\n",
    "# Create an instance of the PorterStemmer class\n",
    "ps = PorterStemmer()\n"
   ]
  },
  {
   "cell_type": "code",
   "execution_count": 340,
   "id": "8c0f46bc-293e-4d3f-aa12-9f7547266733",
   "metadata": {},
   "outputs": [],
   "source": [
    "# Define the preprocessing function\n",
    "def preprocessing(text):\n",
    "    \n",
    "    # Remove punctuations\n",
    "    data[\"tweet\"] = data[\"tweet\"].apply(remove_punctuations)\n",
    "\n",
    "    # Remove numbers\n",
    "    data[\"tweet\"] = data[\"tweet\"].str.replace(r'\\d+', '', regex=True)\n",
    "\n",
    "    # Remove stopwords\n",
    "    data[\"tweet\"] = data[\"tweet\"].apply(\n",
    "        lambda x: \" \".join(\n",
    "            word for word in x.split() if word not in sw\n",
    "        )\n",
    "    )\n",
    "\n",
    "    # Apply stemming\n",
    "    data[\"tweet\"] = data[\"tweet\"].apply(\n",
    "        lambda x: \" \".join(\n",
    "            ps.stem(word) for word in x.split()\n",
    "        )\n",
    "    )\n",
    "\n",
    "    return data[\"tweet\"]"
   ]
  },
  {
   "cell_type": "code",
   "execution_count": 341,
   "id": "100a267f-60b7-4f05-9282-43a15b3ac145",
   "metadata": {},
   "outputs": [],
   "source": [
    "def preprocessing(text):\n",
    "    # Convert text input into a pandas DataFrame\n",
    "    data = pd.DataFrame([text], columns=['tweet'])  # Wrap text in a list\n",
    "    \n",
    "    # Convert uppercase to lowercase\n",
    "    data[\"tweet\"] = data[\"tweet\"].apply(lambda x: \" \".join(x.lower() for x in x.split()))\n",
    "    \n",
    "    return data[\"tweet\"]"
   ]
  },
  {
   "cell_type": "code",
   "execution_count": 350,
   "id": "2c8bf2cc-48ac-4d53-ac2b-4da3f43cf129",
   "metadata": {},
   "outputs": [],
   "source": [
    "# Define a function to vectorize sentences based on a given vocabulary\n",
    "def vectorizer(ds, vocabulary):\n",
    "    # Initialize an empty list to store the vectorized sentences\n",
    "    vectorized_lst = []\n",
    "    \n",
    "    # Iterate over each sentence in the dataset\n",
    "    for sentence in ds:\n",
    "        # Create a zero vector of length equal to the vocabulary size\n",
    "        sentence_lst = np.zeros(len(vocabulary))\n",
    "        \n",
    "        # Iterate through each word in the vocabulary\n",
    "        for i in range(len(vocabulary)):\n",
    "            # Check if the vocabulary word exists in the current sentence\n",
    "            if vocabulary[i] in sentence.split():\n",
    "                # Set the corresponding index in the sentence vector to 1\n",
    "                sentence_lst[i] = 1\n",
    "        \n",
    "        # Append the vectorized sentence to the list\n",
    "        vectorized_lst.append(sentence_lst)\n",
    "    \n",
    "    # Convert the list of vectors into a NumPy array with type float32\n",
    "    vectorized_lst_new = np.asarray(vectorized_lst, dtype=np.float32)\n",
    "    \n",
    "    # Return the vectorized dataset\n",
    "    return vectorized_lst_new\n"
   ]
  },
  {
   "cell_type": "code",
   "execution_count": 351,
   "id": "565a935c-23b3-4915-9662-a6b5f04194eb",
   "metadata": {},
   "outputs": [],
   "source": [
    "def get_prediction(vectorized_text):\n",
    "    prediction = model.predict(vectorized_text)\n",
    "    if prediction == 1:\n",
    "        return 'negative'\n",
    "    else:\n",
    "        return 'positive'\n"
   ]
  },
  {
   "cell_type": "code",
   "execution_count": 352,
   "id": "555b4ebd-0eb0-4975-b4c2-ccf59d1cb60b",
   "metadata": {},
   "outputs": [
    {
     "data": {
      "text/plain": [
       "'positive'"
      ]
     },
     "execution_count": 352,
     "metadata": {},
     "output_type": "execute_result"
    }
   ],
   "source": [
    "txt = \"awesome product. i love it\"\n",
    "preprocessed_txt = preprocessing(txt)\n",
    "vectorized_txt = vectorizer(preprocessed_txt, tokens)\n",
    "prediction = get_prediction(vectorized_txt)\n",
    "prediction\n"
   ]
  }
 ],
 "metadata": {
  "kernelspec": {
   "display_name": "Python 3 (ipykernel)",
   "language": "python",
   "name": "python3"
  },
  "language_info": {
   "codemirror_mode": {
    "name": "ipython",
    "version": 3
   },
   "file_extension": ".py",
   "mimetype": "text/x-python",
   "name": "python",
   "nbconvert_exporter": "python",
   "pygments_lexer": "ipython3",
   "version": "3.12.7"
  }
 },
 "nbformat": 4,
 "nbformat_minor": 5
}
